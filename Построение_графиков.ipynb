{
  "nbformat": 4,
  "nbformat_minor": 0,
  "metadata": {
    "colab": {
      "provenance": [],
      "authorship_tag": "ABX9TyNQXx6EHzzl0q5bj4H7abK6",
      "include_colab_link": true
    },
    "kernelspec": {
      "name": "python3",
      "display_name": "Python 3"
    },
    "language_info": {
      "name": "python"
    }
  },
  "cells": [
    {
      "cell_type": "markdown",
      "metadata": {
        "id": "view-in-github",
        "colab_type": "text"
      },
      "source": [
        "<a href=\"https://colab.research.google.com/github/Aliak29/Python_Seminars/blob/main/%D0%9F%D0%BE%D1%81%D1%82%D1%80%D0%BE%D0%B5%D0%BD%D0%B8%D0%B5_%D0%B3%D1%80%D0%B0%D1%84%D0%B8%D0%BA%D0%BE%D0%B2.ipynb\" target=\"_parent\"><img src=\"https://colab.research.google.com/assets/colab-badge.svg\" alt=\"Open In Colab\"/></a>"
      ]
    },
    {
      "cell_type": "code",
      "source": [
        "import pandas as pd\n",
        "import random\n",
        "\n",
        "lst = ['robot'] * 10\n",
        "lst += ['human'] * 10\n",
        "random.shuffle(lst)\n",
        "data = pd.DataFrame({'whoAmI': lst})\n",
        "print(\"Исходные данные:\\n\", data)\n",
        "\n",
        "\n",
        "one_hot = data['whoAmI'].str.get_dummies()\n",
        "print(\"Результат one hot кодирования:\\n\", one_hot)\n"
      ],
      "metadata": {
        "colab": {
          "base_uri": "https://localhost:8080/"
        },
        "id": "9L9hF-2cz3u6",
        "outputId": "6b9e4691-96ec-45cc-e931-fc1f8a1d3e02"
      },
      "execution_count": null,
      "outputs": [
        {
          "output_type": "stream",
          "name": "stdout",
          "text": [
            "Исходные данные:\n",
            "    whoAmI\n",
            "0   robot\n",
            "1   human\n",
            "2   human\n",
            "3   robot\n",
            "4   robot\n",
            "5   human\n",
            "6   robot\n",
            "7   human\n",
            "8   human\n",
            "9   robot\n",
            "10  human\n",
            "11  human\n",
            "12  robot\n",
            "13  human\n",
            "14  robot\n",
            "15  human\n",
            "16  human\n",
            "17  robot\n",
            "18  robot\n",
            "19  robot\n",
            "Результат one hot кодирования:\n",
            "     human  robot\n",
            "0       0      1\n",
            "1       1      0\n",
            "2       1      0\n",
            "3       0      1\n",
            "4       0      1\n",
            "5       1      0\n",
            "6       0      1\n",
            "7       1      0\n",
            "8       1      0\n",
            "9       0      1\n",
            "10      1      0\n",
            "11      1      0\n",
            "12      0      1\n",
            "13      1      0\n",
            "14      0      1\n",
            "15      1      0\n",
            "16      1      0\n",
            "17      0      1\n",
            "18      0      1\n",
            "19      0      1\n"
          ]
        }
      ]
    }
  ]
}